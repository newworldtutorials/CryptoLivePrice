{
 "cells": [
  {
   "cell_type": "code",
   "execution_count": null,
   "id": "1482354e",
   "metadata": {},
   "outputs": [],
   "source": [
    "pip install requests"
   ]
  },
  {
   "cell_type": "code",
   "execution_count": null,
   "id": "78c2c5f6",
   "metadata": {},
   "outputs": [],
   "source": [
    "pip install pyttsx3"
   ]
  }
 ],
 "metadata": {
  "kernelspec": {
   "display_name": "Python 3",
   "language": "python",
   "name": "python3"
  },
  "language_info": {
   "name": "python",
   "version": "3.12.6"
  }
 },
 "nbformat": 4,
 "nbformat_minor": 5
}
